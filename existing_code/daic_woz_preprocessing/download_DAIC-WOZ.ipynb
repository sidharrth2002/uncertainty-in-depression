{
 "cells": [
  {
   "cell_type": "code",
   "execution_count": 22,
   "metadata": {},
   "outputs": [
    {
     "name": "stdout",
     "output_type": "stream",
     "text": [
      "Start downloading session 300 ...\n",
      "342_P is excluded session\n",
      "394_P is excluded session\n",
      "Start downloading session 301 ...\n",
      "Start downloading documents ...\n",
      "Start downloading util ...\n",
      "Start downloading pdf and csv ...\n"
     ]
    }
   ],
   "source": [
    "'''\n",
    "DAIC-WOZ Depression Database\n",
    "\n",
    "The package includes 189 folders of sessions 300-492 and \n",
    "other documents as well as matlab scripts in util.zip\n",
    "Excluded sessions: 342,394,398,460\n",
    "'''\n",
    "\n",
    "import os\n",
    "import requests\n",
    "from zipfile import ZipFile\n",
    "from io import BytesIO\n",
    "\n",
    "list_a = [300, 342, 394, 301]\n",
    "excluded = [342, 394, 398, 460]\n",
    "\n",
    "username = \"daicwozuser\"\n",
    "password = \"Tqiy7T7CD9OBTa1VZ5CLjgni\"\n",
    "\n",
    "dataset_destination = os.getcwd()\n",
    "\n",
    "\n",
    "# download all sessions\n",
    "for session in list_a:\n",
    "    if session not in excluded:\n",
    "        print(\"Start downloading session {} ...\".format(session))\n",
    "        # get the full url\n",
    "        zipurl = 'https://dcapswoz.ict.usc.edu/wwwdaicwoz/{}_P.zip'.format(session)\n",
    "        #  get the link with given username & password\n",
    "        r = requests.get(zipurl, auth=(username, password))\n",
    "        # open the ZIP file with binary stream\n",
    "        zfile = ZipFile(BytesIO(r.content))\n",
    "        # extract all contents and store in a given folder\n",
    "        file = zfile.extractall(os.path.join(dataset_destination, \"{}_P\".format(session)))\n",
    "        \n",
    "    else:\n",
    "        print(\"{}_P is excluded session\".format(session))\n",
    "        continue\n",
    "\n",
    "        \n",
    "# download documents.zip\n",
    "print(\"Start downloading documents ...\")\n",
    "zipurl = \"https://dcapswoz.ict.usc.edu/wwwdaicwoz/documents.zip\"\n",
    "#  get the link with given username & password\n",
    "r = requests.get(zipurl, auth=(username, password))\n",
    "# open the ZIP file with binary stream\n",
    "zfile = ZipFile(BytesIO(r.content))\n",
    "# extract all contents and store in a given folder\n",
    "file = zfile.extractall(os.path.join(dataset_destination, \"documents\"))\n",
    "\n",
    "\n",
    "# download util.zip\n",
    "print(\"Start downloading util ...\")\n",
    "zipurl = \"https://dcapswoz.ict.usc.edu/wwwdaicwoz/util.zip\"\n",
    "#  get the link with given username & password\n",
    "r = requests.get(zipurl, auth=(username, password))\n",
    "# open the ZIP file with binary stream\n",
    "zfile = ZipFile(BytesIO(r.content))\n",
    "# extract all contents and store in a given folder\n",
    "file = zfile.extractall(os.path.join(dataset_destination, \"util\"))\n",
    "\n",
    "\n",
    "# function for download the file\n",
    "def download_file(url, destination, name):\n",
    "    downloaded_obj = requests.get(url, auth=(username, password))\n",
    "    with open(os.path.join(destination, name), \"wb\") as file:\n",
    "        file.write(downloaded_obj.content)\n",
    "\n",
    "        \n",
    "# download all csv and pdf files\n",
    "print(\"Start downloading pdf and csv ...\")\n",
    "pdf = \"https://dcapswoz.ict.usc.edu/wwwdaicwoz/DAICWOZDepression_Documentation_AVEC2017.pdf\"\n",
    "pdf_name = pdf.split('/')[-1]\n",
    "download_file(pdf, dataset_destination, pdf_name)\n",
    "\n",
    "csv1 = \"https://dcapswoz.ict.usc.edu/wwwdaicwoz/dev_split_Depression_AVEC2017.csv\"\n",
    "csv1_name = csv1.split('/')[-1]\n",
    "download_file(csv1, dataset_destination, csv1_name)\n",
    "\n",
    "csv2 = \"https://dcapswoz.ict.usc.edu/wwwdaicwoz/full_test_split.csv\"\n",
    "csv2_name = csv2.split('/')[-1]\n",
    "download_file(csv2, dataset_destination, csv2_name)\n",
    "\n",
    "csv3 = \"https://dcapswoz.ict.usc.edu/wwwdaicwoz/test_split_Depression_AVEC2017.csv\"\n",
    "csv3_name = csv3.split('/')[-1]\n",
    "download_file(csv3, dataset_destination, csv3_name)\n",
    "\n",
    "csv4 = \"https://dcapswoz.ict.usc.edu/wwwdaicwoz/train_split_Depression_AVEC2017.csv\"\n",
    "csv4_name = csv4.split('/')[-1]\n",
    "download_file(csv4, dataset_destination, csv4_name)\n",
    "\n"
   ]
  },
  {
   "cell_type": "code",
   "execution_count": null,
   "metadata": {},
   "outputs": [],
   "source": [
    "\"https://dcapswoz.ict.usc.edu/wwwdaicwoz/DAICWOZDepression_Documentation_AVEC2017.pdf\"\n",
    "\"https://dcapswoz.ict.usc.edu/wwwdaicwoz/dev_split_Depression_AVEC2017.csv\"\n",
    "\"https://dcapswoz.ict.usc.edu/wwwdaicwoz/full_test_split.csv\"\n",
    "\"https://dcapswoz.ict.usc.edu/wwwdaicwoz/test_split_Depression_AVEC2017.csv\"\n",
    "\"https://dcapswoz.ict.usc.edu/wwwdaicwoz/train_split_Depression_AVEC2017.csv\"\n",
    "\n",
    "\n",
    "\"https://dcapswoz.ict.usc.edu/wwwdaicwoz/documents.zip\"\n",
    "\"https://dcapswoz.ict.usc.edu/wwwdaicwoz/util.zip\""
   ]
  },
  {
   "cell_type": "code",
   "execution_count": 18,
   "metadata": {},
   "outputs": [
    {
     "name": "stdout",
     "output_type": "stream",
     "text": [
      "DAICWOZDepression_Documentation_AVEC2017.pdf\n"
     ]
    }
   ],
   "source": [
    "pdf = \"https://dcapswoz.ict.usc.edu/wwwdaicwoz/DAICWOZDepression_Documentation_AVEC2017.pdf\"\n",
    "pdf_name = pdf.split('/')[-1]\n",
    "print(pdf_name)"
   ]
  }
 ],
 "metadata": {
  "kernelspec": {
   "display_name": "Python 3",
   "language": "python",
   "name": "python3"
  },
  "language_info": {
   "codemirror_mode": {
    "name": "ipython",
    "version": 3
   },
   "file_extension": ".py",
   "mimetype": "text/x-python",
   "name": "python",
   "nbconvert_exporter": "python",
   "pygments_lexer": "ipython3",
   "version": "3.8.3"
  }
 },
 "nbformat": 4,
 "nbformat_minor": 5
}
